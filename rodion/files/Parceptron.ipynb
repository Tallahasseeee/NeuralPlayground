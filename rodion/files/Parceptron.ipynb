{
  "nbformat": 4,
  "nbformat_minor": 0,
  "metadata": {
    "colab": {
      "provenance": []
    },
    "kernelspec": {
      "name": "python3",
      "display_name": "Python 3"
    },
    "language_info": {
      "name": "python"
    }
  },
  "cells": [
    {
      "cell_type": "code",
      "execution_count": 6,
      "metadata": {
        "colab": {
          "base_uri": "https://localhost:8080/"
        },
        "id": "49F4YD6npfe6",
        "outputId": "1977bd47-6d79-4b19-d680-f36373c85516"
      },
      "outputs": [
        {
          "output_type": "stream",
          "name": "stdout",
          "text": [
            "Результат:\n",
            "[0 0] -> [0.]\n",
            "[0 1] -> [1.]\n",
            "[1 0] -> [1.]\n",
            "[1 1] -> [0.]\n"
          ]
        }
      ],
      "source": [
        "import numpy as np\n",
        "import pickle\n",
        "\n",
        "class MLP:\n",
        "    def __init__(self, learning_rate=0.1, epochs=100, hidden_nodes=2):\n",
        "        self.learning_rate = learning_rate\n",
        "        self.epochs = epochs\n",
        "        self.hidden_weights = None\n",
        "        self.hidden_bias = None\n",
        "        self.output_weights = None\n",
        "        self.output_bias = None\n",
        "        self.hidden_nodes = hidden_nodes\n",
        "\n",
        "    def save_model(self, filename):\n",
        "        model_data = {\n",
        "            'learning_rate': self.learning_rate,\n",
        "            'epochs': self.epochs,\n",
        "            'hidden_nodes': self.hidden_nodes,\n",
        "            'hidden_weights': self.hidden_weights.tolist(),\n",
        "            'hidden_bias': self.hidden_bias.tolist(),\n",
        "            'output_weights': self.output_weights.tolist(),\n",
        "            'output_bias': self.output_bias.tolist()\n",
        "        }\n",
        "        with open(filename, 'wb') as f:\n",
        "            pickle.dump(model_data, f)\n",
        "\n",
        "    @staticmethod\n",
        "    def load_model(filename):\n",
        "        with open(filename, 'rb') as f:\n",
        "            model_data = pickle.load(f)\n",
        "        mlp = MLP(\n",
        "            learning_rate=model_data['learning_rate'],\n",
        "            epochs=model_data['epochs'],\n",
        "            hidden_nodes=model_data['hidden_nodes']\n",
        "        )\n",
        "        mlp.hidden_weights = np.array(model_data['hidden_weights'])\n",
        "        mlp.hidden_bias = np.array(model_data['hidden_bias'])\n",
        "        mlp.output_weights = np.array(model_data['output_weights'])\n",
        "        mlp.output_bias = np.array(model_data['output_bias'])\n",
        "        return mlp\n",
        "\n",
        "    def sigmoid(self, x):\n",
        "        return 1 / (1 + np.exp(-x))\n",
        "\n",
        "    def predict(self, inputs):\n",
        "        hidden_output = self.sigmoid(np.dot(inputs, self.hidden_weights) + self.hidden_bias)\n",
        "        output = self.sigmoid(np.dot(hidden_output, self.output_weights) + self.output_bias)\n",
        "        return output\n",
        "\n",
        "    def train(self, training_inputs, labels):\n",
        "        self.hidden_weights = np.random.rand(training_inputs.shape[1], self.hidden_nodes)\n",
        "        self.hidden_bias = np.random.rand(self.hidden_nodes)\n",
        "        self.output_weights = np.random.rand(self.hidden_nodes, 1)\n",
        "        self.output_bias = np.random.rand(1)\n",
        "\n",
        "        for _ in range(self.epochs):\n",
        "            for inputs, label in zip(training_inputs, labels):\n",
        "\n",
        "                hidden_output = self.sigmoid(np.dot(inputs, self.hidden_weights) + self.hidden_bias)\n",
        "                output = self.sigmoid(np.dot(hidden_output, self.output_weights) + self.output_bias)\n",
        "\n",
        "                output_error = label - output\n",
        "                output_delta = output_error * output * (1 - output)\n",
        "\n",
        "                hidden_error = np.dot(output_delta, self.output_weights.T)\n",
        "                hidden_delta = hidden_error * hidden_output * (1 - hidden_output)\n",
        "\n",
        "                self.output_weights += self.learning_rate * np.dot(hidden_output.reshape(-1, 1), output_delta.reshape(1, -1))\n",
        "                self.output_bias += self.learning_rate * output_delta\n",
        "\n",
        "                self.hidden_weights += self.learning_rate * np.dot(inputs.reshape(-1, 1), hidden_delta.reshape(1, -1))\n",
        "                self.hidden_bias += self.learning_rate * hidden_delta\n",
        "\n",
        "training_inputs = np.array([[0, 0], [0, 1], [1, 0], [1, 1]])\n",
        "labels = np.array([[0], [1], [1], [0]])\n",
        "\n",
        "mlp = MLP(learning_rate=0.5, epochs=5000)\n",
        "mlp.train(training_inputs, labels)\n",
        "\n",
        "print(\"Результат:\")\n",
        "for inputs in training_inputs:\n",
        "    print(f\"{inputs} -> {mlp.predict(inputs).round()}\")\n",
        "mlp.save_model(\"weights\")"
      ]
    }
  ]
}